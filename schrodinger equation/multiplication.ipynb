{
 "cells": [
  {
   "cell_type": "code",
   "execution_count": null,
   "metadata": {},
   "outputs": [],
   "source": []
  },
  {
   "cell_type": "markdown",
   "metadata": {},
   "source": [
    "Suppose we have two integers $\\displaystyle a=\\sum_{i=0}^m a_i\\cdot10^i$ and $\\displaystyle b=\\sum_{i=0}^n b_i\\cdot10^i$ where subscripted number are digits. \n",
    "\n",
    "To calculate $c = a\\cdot b$, our familiar algorithm is to do \n",
    "\n",
    "\\begin{align*}\n",
    "c &= a\\cdot b = a\\cdot \\sum_{i=0}^n b_i\\cdot10^i \\\\\n",
    "  &= \\left(\\sum_{i=0}^m a_i\\cdot10^i\\right) \\cdot \\left(\\sum_{i=0}^n b_i\\cdot10^i\\right)\\\\\n",
    "  &= \\sum_{i=0}^m\\sum_{j=0}^n a_i b_j 10^{i+j}\n",
    "\\end{align*}\n",
    "\n",
    "which requires $mn$ small multiplications between digits, and $mn-1$ additions\n",
    "\n",
    "Just advance one step further\n",
    "\n",
    "\\begin{align*}\n",
    "c &= \\sum_{i=0}^m\\sum_{j=0}^n a_i b_j 10^{i+j}\\\\\n",
    "  &= \\sum_{k=0}^{m+n}\\sum_{i=0}^m a_i b_{k-i} 10^{k}\\\\\n",
    "\\end{align*}\n",
    "\n",
    "This seems to be a convolution. This is when fourier transform need to be used. Not the slow ($\\mathcal{O}(N^2)$) one, the fast ($\\mathcal{O}(N\\log N)$) one.\n",
    "\n"
   ]
  },
  {
   "cell_type": "markdown",
   "metadata": {},
   "source": [
    "It's called the Schönhage–Strassen algorithm"
   ]
  },
  {
   "cell_type": "code",
   "execution_count": 3,
   "metadata": {},
   "outputs": [
    {
     "name": "stdout",
     "output_type": "stream",
     "text": [
      "285714\n",
      "428571\n",
      "571428\n",
      "714285\n",
      "857142\n",
      "999999\n",
      "999\n",
      "99\n",
      "20408122449\n",
      "142857\n"
     ]
    }
   ],
   "source": [
    "for i in range(2,8):\n",
    "    print(142857*i)\n",
    "print(142+857)\n",
    "print(14+28+57)\n",
    "print(142857**2)\n",
    "print(20408+122449)"
   ]
  }
 ],
 "metadata": {
  "kernelspec": {
   "display_name": "Python 3",
   "language": "python",
   "name": "python3"
  },
  "language_info": {
   "codemirror_mode": {
    "name": "ipython",
    "version": 3
   },
   "file_extension": ".py",
   "mimetype": "text/x-python",
   "name": "python",
   "nbconvert_exporter": "python",
   "pygments_lexer": "ipython3",
   "version": "3.9.11"
  },
  "orig_nbformat": 4
 },
 "nbformat": 4,
 "nbformat_minor": 2
}
