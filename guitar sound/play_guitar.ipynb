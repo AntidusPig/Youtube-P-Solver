{
 "cells": [
  {
   "cell_type": "code",
   "execution_count": 1,
   "metadata": {},
   "outputs": [],
   "source": [
    "import numpy as np\n",
    "import matplotlib.pyplot as plt\n",
    "from matplotlib import animation\n",
    "from matplotlib.animation import PillowWriter\n",
    "import numba\n",
    "from numba import jit\n",
    "from scipy.io import wavfile\n",
    "from IPython.display import Audio\n",
    "import os"
   ]
  },
  {
   "cell_type": "code",
   "execution_count": 17,
   "metadata": {},
   "outputs": [],
   "source": [
    "c = 306\n",
    "Nx = 101"
   ]
  },
  {
   "cell_type": "code",
   "execution_count": 47,
   "metadata": {},
   "outputs": [
    {
     "name": "stderr",
     "output_type": "stream",
     "text": [
      "C:\\Users\\张索\\AppData\\Local\\Temp\\ipykernel_28024\\1941127412.py:1: NumbaDeprecationWarning: \u001b[1mThe 'nopython' keyword argument was not supplied to the 'numba.jit' decorator. The implicit default value for this argument is currently False, but it will be changed to True in Numba 0.59.0. See https://numba.readthedocs.io/en/stable/reference/deprecation.html#deprecation-of-object-mode-fall-back-behaviour-when-using-jit for details.\u001b[0m\n",
      "  @numba.jit('f8[:](i8, f8[:,:])')\n"
     ]
    }
   ],
   "source": [
    "@numba.jit('f8[:](i8, f8[:,:])')\n",
    "def integral(n,y):          # is the solution we just get\n",
    "    sin_arr = np.sin(n*np.linspace(0,np.pi,Nx))\n",
    "    return np.array([sum(sin_arr*s) for s in y])      #array of relative amplitude for the nth harmonic at all times"
   ]
  },
  {
   "cell_type": "code",
   "execution_count": 6,
   "metadata": {},
   "outputs": [],
   "source": [
    "@numba.jit(\"f8[:,:](f8[:,:], f8, f8, f8, f8)\", nopython=True, nogil=True)\n",
    "def compute(y, dt, dx, l, gamma):\n",
    "    outer_factor = 1/(1/(c * dt)**2+gamma/2/dt)\n",
    "    times = len(y)\n",
    "    length = len(y[0])\n",
    "    for m in range(1,times-1):\n",
    "        for j in range(2,length-2):\n",
    "            f = (y[m][j+1]-2*y[m][j]+y[m][j-1])/dx**2\n",
    "            g = -(y[m-1][j]-2*y[m][j])/(c**2 * dt**2)\n",
    "            h = gamma * y[m-1][j] / 2/dt\n",
    "            i = - (l/dx**2)**2 * (y[m][j-2]-4*y[m][j-1]+6*y[m][j]-4*y[m][j+1]+y[m][j+2])\n",
    "            y[m+1][j] = outer_factor * (f+g+h+i)\n",
    "    return y"
   ]
  },
  {
   "cell_type": "code",
   "execution_count": 53,
   "metadata": {},
   "outputs": [],
   "source": [
    "def produce_note(strLength, path, name):\n",
    "    L = strLength\n",
    "    dx = L/(Nx-1)\n",
    "\n",
    "    duration = 3\n",
    "    dt = 2e-06\n",
    "    Nt = int(duration / dt)\n",
    "\n",
    "    l=2e-6\n",
    "    gamma=2.6e-5\n",
    "\n",
    "    ya = np.linspace(0, 0.01, 80)\n",
    "    yb = np.linspace(0.01, 0, Nx-80)\n",
    "    y0 = np.concatenate([ya,yb])\n",
    "    sol = np.zeros((Nt,Nx))\n",
    "    sol[0] = y0\n",
    "    sol[1] = y0\n",
    "    sol = compute(sol, dt, dx, l, gamma)\n",
    "    numberoHarmonics = 10\n",
    "    hms = np.array([integral(n,sol) for n in range(1,numberoHarmonics+1)])\n",
    "    t = np.linspace(0,duration,Nt)\n",
    "    tot = np.array(sum(hms[i]*np.sin((i+1)*np.pi*c*t/L) for i in range(numberoHarmonics)))\n",
    "    tot = tot[::10].astype(np.float32)     # 50k, usual mp4 needs 48 kHz\n",
    "    loc = os.path.join(path,f'{name}.wav')\n",
    "    wavfile.write(loc,50000,tot)\n",
    "    "
   ]
  }
 ],
 "metadata": {
  "kernelspec": {
   "display_name": "Python 3",
   "language": "python",
   "name": "python3"
  },
  "language_info": {
   "codemirror_mode": {
    "name": "ipython",
    "version": 3
   },
   "file_extension": ".py",
   "mimetype": "text/x-python",
   "name": "python",
   "nbconvert_exporter": "python",
   "pygments_lexer": "ipython3",
   "version": "3.9.11"
  },
  "orig_nbformat": 4
 },
 "nbformat": 4,
 "nbformat_minor": 2
}
