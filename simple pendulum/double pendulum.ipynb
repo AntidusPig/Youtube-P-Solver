{
 "cells": [
  {
   "cell_type": "code",
   "execution_count": 1,
   "metadata": {},
   "outputs": [],
   "source": [
    "from scipy.integrate import odeint\n",
    "import matplotlib.pyplot as plt\n",
    "import numpy as np\n",
    "from matplotlib import animation\n",
    "from matplotlib.animation import PillowWriter\n",
    "from sympy import symbols\n",
    "import sympy as smp"
   ]
  },
  {
   "cell_type": "code",
   "execution_count": 2,
   "metadata": {},
   "outputs": [],
   "source": [
    "# l = 1\n",
    "m1, m2, g, t = symbols('m_1 m_2 g t')\n",
    "the1, the2 = symbols(r'\\theta_1 \\theta_2',cls=smp.Function)"
   ]
  },
  {
   "cell_type": "code",
   "execution_count": 3,
   "metadata": {},
   "outputs": [],
   "source": [
    "the1 = the1(t)\n",
    "the2 = the2(t)\n",
    "the1_d = the1.diff(t)\n",
    "the2_d = the2.diff(t)\n",
    "the1_dd = the1_d.diff(t)\n",
    "the2_dd = the2_d.diff(t)"
   ]
  },
  {
   "cell_type": "code",
   "execution_count": 4,
   "metadata": {},
   "outputs": [],
   "source": [
    "L, T, V = symbols('L T V',cls=smp.Function)\n",
    "T = T(the1_d, the2_d)\n",
    "V = V(the1, the2)\n",
    "L = L(T, V)\n",
    "T = m1*the1_d**2 + m2*the2_d**2\n",
    "V = -g*(m1*smp.sin(the1) + m2*(smp.sin(the2)+smp.sin(the1)))\n",
    "L = T-V"
   ]
  },
  {
   "cell_type": "code",
   "execution_count": 5,
   "metadata": {},
   "outputs": [
    {
     "data": {
      "text/latex": [
       "$\\displaystyle m_{2} \\left(g \\cos{\\left(\\theta_{2}{\\left(t \\right)} \\right)} - 2 \\frac{d^{2}}{d t^{2}} \\theta_{2}{\\left(t \\right)}\\right)$"
      ],
      "text/plain": [
       "m_2*(g*cos(\\theta_2(t)) - 2*Derivative(\\theta_2(t), (t, 2)))"
      ]
     },
     "execution_count": 5,
     "metadata": {},
     "output_type": "execute_result"
    }
   ],
   "source": [
    "LE1 = L.diff(the1)-L.diff(the1_d).diff(t)\n",
    "LE1.simplify()\n",
    "LE2 = L.diff(the2)-L.diff(the2_d).diff(t)\n",
    "LE2.simplify()"
   ]
  },
  {
   "cell_type": "code",
   "execution_count": 6,
   "metadata": {},
   "outputs": [],
   "source": [
    "sols = smp.solve([LE1,LE2],[the1_dd,the2_dd],rational=False)"
   ]
  },
  {
   "cell_type": "code",
   "execution_count": 8,
   "metadata": {},
   "outputs": [],
   "source": [
    "dw1dt = smp.lambdify((m1,m2,g,the1,the2,the1_d,the2_d),sols[the1_dd])\n",
    "dthe1dt = smp.lambdify(the1_d, the1_d)\n",
    "dw2dt = smp.lambdify((m1,m2,g,the1,the2,the1_d,the2_d),sols[the2_dd])\n",
    "dthe2dt = smp.lambdify(the2_d, the2_d)"
   ]
  },
  {
   "cell_type": "code",
   "execution_count": 14,
   "metadata": {},
   "outputs": [],
   "source": [
    "def dydt(y,t):\n",
    "    the1, the2, the1_d, the2_d = y\n",
    "    return [dthe1dt(the1_d), dthe2dt(the2_d), \n",
    "            dw1dt(m1,m2,g,the1,the2,the1_d,the2_d),\n",
    "            dw2dt(m1,m2,g,the1,the2,the1_d,the2_d)]"
   ]
  },
  {
   "cell_type": "code",
   "execution_count": 40,
   "metadata": {},
   "outputs": [],
   "source": [
    "m1 = 1\n",
    "m2 = 2\n",
    "g = 9.81\n",
    "y0 = [np.pi/4,np.pi/6,0,0]\n",
    "duration = 100\n",
    "fps = 24\n",
    "total_frames = duration * fps\n",
    "t = np.linspace(1,duration,total_frames)\n",
    "y = odeint(dydt,y0,t)"
   ]
  },
  {
   "cell_type": "code",
   "execution_count": 41,
   "metadata": {},
   "outputs": [
    {
     "name": "stdout",
     "output_type": "stream",
     "text": [
      "1/2400400\r"
     ]
    },
    {
     "data": {
      "image/png": "[encoded data removed]",
      "text/plain": [
       "<Figure size 500x500 with 1 Axes>"
      ]
     },
     "metadata": {},
     "output_type": "display_data"
    }
   ],
   "source": [
    "fig = plt.figure(figsize=(5,5))\n",
    "plt.xlim(-2.1,2.1)\n",
    "plt.ylim(-2.1,2.1)\n",
    "plt.gca().set_xlabel('$l$')\n",
    "x1 = np.cos(y[:,0])\n",
    "y1 = -np.sin(y[:,0])\n",
    "x2 = x1+np.cos(y[:,1])\n",
    "y2 = y1-np.sin(y[:,1])\n",
    "pend, = plt.plot([0,x1[0],x2[0]],[0,y1[0],y2[0]],'--o')\n",
    "\n",
    "def anim(i):\n",
    "    pend.set_data([0,x1[i],x2[i]],[0,y1[i],y2[i]])\n",
    "    print('%d/%d'%(i+1,total_frames),end='\\r')\n",
    "\n",
    "ani = animation.FuncAnimation(fig,anim,total_frames)\n",
    "ani.save('dpen.gif','pillow',fps=fps)"
   ]
  }
 ],
 "metadata": {
  "kernelspec": {
   "display_name": "Python 3",
   "language": "python",
   "name": "python3"
  },
  "language_info": {
   "codemirror_mode": {
    "name": "ipython",
    "version": 3
   },
   "file_extension": ".py",
   "mimetype": "text/x-python",
   "name": "python",
   "nbconvert_exporter": "python",
   "pygments_lexer": "ipython3",
   "version": "3.9.11"
  },
  "orig_nbformat": 4
 },
 "nbformat": 4,
 "nbformat_minor": 2
}
